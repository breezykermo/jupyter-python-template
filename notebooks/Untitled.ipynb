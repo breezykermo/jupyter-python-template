{
 "cells": [
  {
   "cell_type": "markdown",
   "id": "5c7b4a61-fdc4-420b-96cc-f497a74823f6",
   "metadata": {},
   "source": [
    "# N-grams"
   ]
  },
  {
   "cell_type": "code",
   "execution_count": null,
   "id": "faa11fd7-78c9-4996-a9fa-279ca911d5a3",
   "metadata": {},
   "outputs": [],
   "source": "from pathlib import Path\nimport sys\n\n# Add parent directory to path for lib imports\nsys.path.insert(0, str(Path.cwd().parent))\n\nimport nltk\nimport numpy as np\nimport pandas as pd\nimport seaborn as sns\nimport matplotlib.pyplot as plt\n\nfrom lib import utils"
  },
  {
   "cell_type": "code",
   "id": "ciy00zewd7q",
   "source": "# Example usage of lib.utils functions\ntext = \"The quick brown fox jumps over the lazy dog. The fox is quick!\"\n\n# Clean and tokenize\ncleaned = utils.clean_text(text)\ntokens = utils.tokenize(cleaned)\nprint(f\"Tokens: {tokens}\\n\")\n\n# Generate bigrams\nbigrams = utils.generate_ngrams(tokens, n=2)\nprint(f\"Bigrams: {bigrams}\\n\")\n\n# Get frequencies\nfrequencies = utils.get_ngram_frequencies(bigrams)\nprint(f\"Bigram frequencies: {frequencies}\")",
   "metadata": {},
   "execution_count": null,
   "outputs": []
  },
  {
   "cell_type": "code",
   "execution_count": null,
   "id": "4796365d-c067-4c9f-8d3a-3fbd36f73dc8",
   "metadata": {},
   "outputs": [],
   "source": []
  }
 ],
 "metadata": {
  "kernelspec": {
   "display_name": "Python 3 (ipykernel)",
   "language": "python",
   "name": "python3"
  },
  "language_info": {
   "codemirror_mode": {
    "name": "ipython",
    "version": 3
   },
   "file_extension": ".py",
   "mimetype": "text/x-python",
   "name": "python",
   "nbconvert_exporter": "python",
   "pygments_lexer": "ipython3",
   "version": "3.11.14"
  }
 },
 "nbformat": 4,
 "nbformat_minor": 5
}
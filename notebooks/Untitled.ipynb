{
 "cells": [
  {
   "cell_type": "markdown",
   "id": "5c7b4a61-fdc4-420b-96cc-f497a74823f6",
   "metadata": {},
   "source": [
    "# N-grams"
   ]
  },
  {
   "cell_type": "code",
   "execution_count": 2,
   "id": "faa11fd7-78c9-4996-a9fa-279ca911d5a3",
   "metadata": {},
   "outputs": [],
   "source": [
    "from pathlib import Path\n",
    "import sys\n",
    "\n",
    "# Add parent directory to path for lib imports\n",
    "sys.path.insert(0, str(Path.cwd().parent))\n",
    "\n",
    "import nltk\n",
    "import numpy as np\n",
    "import pandas as pd\n",
    "import seaborn as sns\n",
    "import matplotlib.pyplot as plt\n",
    "\n",
    "from lib import utils"
   ]
  },
  {
   "cell_type": "code",
   "execution_count": 3,
   "id": "ciy00zewd7q",
   "metadata": {},
   "outputs": [
    {
     "name": "stdout",
     "output_type": "stream",
     "text": [
      "Tokens: ['the', 'quick', 'brown', 'fox', 'jumps', 'over', 'the', 'lazy', 'dog', 'the', 'fox', 'is', 'quick']\n",
      "\n",
      "Bigrams: [('the', 'quick'), ('quick', 'brown'), ('brown', 'fox'), ('fox', 'jumps'), ('jumps', 'over'), ('over', 'the'), ('the', 'lazy'), ('lazy', 'dog'), ('dog', 'the'), ('the', 'fox'), ('fox', 'is'), ('is', 'quick')]\n",
      "\n",
      "Bigram frequencies: {('the', 'quick'): 1, ('quick', 'brown'): 1, ('brown', 'fox'): 1, ('fox', 'jumps'): 1, ('jumps', 'over'): 1, ('over', 'the'): 1, ('the', 'lazy'): 1, ('lazy', 'dog'): 1, ('dog', 'the'): 1, ('the', 'fox'): 1, ('fox', 'is'): 1, ('is', 'quick'): 1}\n"
     ]
    }
   ],
   "source": [
    "# Example usage of lib.utils functions\n",
    "text = \"The quick brown fox jumps over the lazy dog. The fox is quick!\"\n",
    "\n",
    "# Clean and tokenize\n",
    "cleaned = utils.clean_text(text)\n",
    "tokens = utils.tokenize(cleaned)\n",
    "print(f\"Tokens: {tokens}\\n\")\n",
    "\n",
    "# Generate bigrams\n",
    "bigrams = utils.generate_ngrams(tokens, n=2)\n",
    "print(f\"Bigrams: {bigrams}\\n\")\n",
    "\n",
    "# Get frequencies\n",
    "frequencies = utils.get_ngram_frequencies(bigrams)\n",
    "print(f\"Bigram frequencies: {frequencies}\")"
   ]
  },
  {
   "cell_type": "code",
   "execution_count": null,
   "id": "4796365d-c067-4c9f-8d3a-3fbd36f73dc8",
   "metadata": {},
   "outputs": [],
   "source": []
  }
 ],
 "metadata": {
  "kernelspec": {
   "display_name": "Python 3 (ipykernel)",
   "language": "python",
   "name": "python3"
  },
  "language_info": {
   "codemirror_mode": {
    "name": "ipython",
    "version": 3
   },
   "file_extension": ".py",
   "mimetype": "text/x-python",
   "name": "python",
   "nbconvert_exporter": "python",
   "pygments_lexer": "ipython3",
   "version": "3.11.14"
  }
 },
 "nbformat": 4,
 "nbformat_minor": 5
}
